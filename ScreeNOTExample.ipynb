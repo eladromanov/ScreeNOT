{
  "cells": [
    {
      "cell_type": "markdown",
      "metadata": {
        "id": "0w2L9seWTpSQ"
      },
      "source": [
        "## *ScreeNOT*: Usage example in `Python`\n",
        "\n",
        "This notebook demonstrates the usage of the `ScreeNOT' package by following a stylized example.\n",
        "\n",
        "#### Usecase summary:\n",
        "1. `X` is a low-rank, unknown signal matrix.\n",
        "2. `Z` is a noise matrix (also unknown). Its rows and columns are can be correlated, the covariance structure being completely unknown.\n",
        "3. We observe `Y=X+Z`. **Goal**: Threshold the singular values of `Y` so to get an estimator `Xest` of `X`. We aim to choose the threshold so to minimize the Frobenius loss: `||X-Xest||_F^2`.\n"
      ]
    },
    {
      "cell_type": "markdown",
      "source": [
        "The following command downloads the ScreeNOT code package from PyPI:"
      ],
      "metadata": {
        "id": "8wKwOSAxmqxc"
      }
    },
    {
      "cell_type": "code",
      "source": [
        "pip install screenot"
      ],
      "metadata": {
        "colab": {
          "base_uri": "https://localhost:8080/"
        },
        "id": "h5CC3ztzmvx-",
        "outputId": "c413f83a-5c9e-49e6-8ddd-ad039656a35f"
      },
      "execution_count": 41,
      "outputs": [
        {
          "output_type": "stream",
          "name": "stdout",
          "text": [
            "Looking in indexes: https://pypi.org/simple, https://us-python.pkg.dev/colab-wheels/public/simple/\n",
            "Collecting screenot\n",
            "  Downloading screenot-0.0.1-py2.py3-none-any.whl (5.3 kB)\n",
            "Installing collected packages: screenot\n",
            "Successfully installed screenot-0.0.1\n"
          ]
        }
      ]
    },
    {
      "cell_type": "markdown",
      "source": [
        "We start with some necessary imports:"
      ],
      "metadata": {
        "id": "Hq0AGSU9VqPq"
      }
    },
    {
      "cell_type": "code",
      "execution_count": 42,
      "metadata": {
        "id": "u5FZZVH_TpSR"
      },
      "outputs": [],
      "source": [
        "import numpy as np    # Numpy\n",
        "from screenot.ScreeNOT import adaptiveHardThresholding   # ScreeNOT main API function\n",
        "\n",
        "import matplotlib.pyplot as plt  # for plotting figures"
      ]
    },
    {
      "cell_type": "markdown",
      "metadata": {
        "id": "oCYHWGNRTpSS"
      },
      "source": [
        "Our matrices will have the same number of rows and columns ```n=p=500```, the rank of ```X``` being ```r=10```, with non-zero singular values ```0.5,1.0,...,5.0``` and uniformly distributed left and right singular vectors. The following code generate such signal matrix:"
      ]
    },
    {
      "cell_type": "code",
      "execution_count": 43,
      "metadata": {
        "id": "qEusNGpITpSS"
      },
      "outputs": [],
      "source": [
        "n = p = 500\n",
        "\n",
        "r = 10\n",
        "x = np.arange(0.5, 0.5 + 0.5*r, 0.5)\n",
        "\n",
        "G = np.random.normal(0, 1, (n,p))  # generate a gaussian i.i.d matrix\n",
        "U, _, Vt = np.linalg.svd(G)  # U, Vt are uniformly random orthogonal matrices, due to the orthogonal invariance of G\n",
        "X = U[:,0:r] @ np.diag(x) @ Vt[0:r,:]"
      ]
    },
    {
      "cell_type": "markdown",
      "metadata": {
        "id": "JDMRj8JJTpSS"
      },
      "source": [
        "For starters, suppose that the noise matrix `Z` has i.i.d. Gaussian entries with mean zero and variance 1/n. We generate such random matrix:"
      ]
    },
    {
      "cell_type": "code",
      "execution_count": 44,
      "metadata": {
        "id": "E3E_bjLhTpSS"
      },
      "outputs": [],
      "source": [
        "Z_gauss = np.random.normal(0, 1, (n,p)) / np.sqrt(n)"
      ]
    },
    {
      "cell_type": "markdown",
      "metadata": {
        "id": "49R-9NTUTpST"
      },
      "source": [
        "Remark: As n,p grow, the empirical singular value distribution of ```Z_gauss``` tends to a Marcenko-Pastur law (with shape parameter ```p/n=1```). \n",
        "\n",
        "Let's plot a histogram of the singular values of ```Z```:\n"
      ]
    },
    {
      "cell_type": "code",
      "execution_count": 45,
      "metadata": {
        "id": "s3-ZBTBxTpST",
        "outputId": "e81578fe-1606-450f-bcfb-e9b361710e88",
        "colab": {
          "base_uri": "https://localhost:8080/",
          "height": 265
        }
      },
      "outputs": [
        {
          "output_type": "display_data",
          "data": {
            "text/plain": [
              "<Figure size 432x288 with 1 Axes>"
            ],
            "image/png": "[encoded data removed]"
          },
          "metadata": {
            "needs_background": "light"
          }
        }
      ],
      "source": [
        "_, fZ_gauss, _ = np.linalg.svd(Z_gauss)\n",
        "plt.hist(fZ_gauss, bins=30, density=True);"
      ]
    },
    {
      "cell_type": "markdown",
      "metadata": {
        "id": "XWzv1BQfTpSU"
      },
      "source": [
        "We apply ScreeNOT on the matrix ```Y_gauss = X + Z_gauss```, giving the upper bound of ```k=20``` on the rank of ```X```. For reconstructing the upper tail of the estimated noise spectral distribution, we use the \"imputation\" method, passing the parameter `strategy='i'` to the ScreeNOT API function. \n",
        "\n",
        "Note: the paramter `strategy` is optional; its default value being `strategy='i'`."
      ]
    },
    {
      "cell_type": "code",
      "execution_count": 46,
      "metadata": {
        "id": "hIgfTSsMTpSU"
      },
      "outputs": [],
      "source": [
        "Y_gauss = X + Z_gauss\n",
        "k = 20\n",
        "\n",
        "Xest_gauss, Topt_gauss, r_eff_gauss = adaptiveHardThresholding(Y_gauss, k, strategy='i')"
      ]
    },
    {
      "cell_type": "markdown",
      "metadata": {
        "id": "gnU6nzA5TpSU"
      },
      "source": [
        "The threshold ScreeNOT computed, and number of principal components retained are:"
      ]
    },
    {
      "cell_type": "code",
      "execution_count": 47,
      "metadata": {
        "id": "DCVpZMs5TpSU",
        "outputId": "646661fe-b6b9-430f-811d-4e2fe5aab9bd",
        "colab": {
          "base_uri": "https://localhost:8080/"
        }
      },
      "outputs": [
        {
          "output_type": "execute_result",
          "data": {
            "text/plain": [
              "(2.3696056582940876, 7)"
            ]
          },
          "metadata": {},
          "execution_count": 47
        }
      ],
      "source": [
        "Topt_gauss, r_eff_gauss"
      ]
    },
    {
      "cell_type": "markdown",
      "metadata": {
        "id": "jd6Dmsa0TpSU"
      },
      "source": [
        "Note that the estimated threshold is quite close to $\\frac{4}{\\sqrt{3}} \\approx 2.3$, which is the well-known asymptotically optimal hard threshold (with respect to Frobenius norm) for i.i.d centered noise (with variance $1/n$), see Gavish and Donoho 2014. This threshold was recovered in a completely data-adaptive manner.\n",
        "\n",
        "\n",
        "Let's now try a different noise matrix ```Z```, this time allowing correlations inside rows of ```Z```. Specifically, every row $\\mathbf{z}$ is sampled from an AR(1) process with parameter $\\rho=0.6$:\n",
        "$z_1 = e_1$ and $z_t = \\rho z_{t-1} + \\sqrt{1-\\rho^2}e_t$ for $t\\ge 2$, where $e_1,\\ldots,e_p \\sim N(0,1/n)$."
      ]
    },
    {
      "cell_type": "code",
      "execution_count": 48,
      "metadata": {
        "id": "EpkAf2ekTpSV"
      },
      "outputs": [],
      "source": [
        "def AR1_Noise(n, p, rho):\n",
        "    Z = np.zeros((n,p))\n",
        "    for i in range(0,n):\n",
        "        Z[i,0] = np.random.normal(0,1)\n",
        "        for j in range(1,p):\n",
        "            Z[i,j] = rho*Z[i,j-1] + np.sqrt(1-rho**2)*np.random.normal(0,1)\n",
        "    return Z/np.sqrt(n)\n",
        "\n",
        "Z_AR1 = AR1_Noise(n,p,0.6)"
      ]
    },
    {
      "cell_type": "markdown",
      "metadata": {
        "id": "fY5AJFo2TpSV"
      },
      "source": [
        "The distribution of singular values of ```Z_AR1``` looks quite different from a Marcenko-Pastur (say with shape p/n=1), despite the fact that each entry has mean $0$ and variance $1/n$:"
      ]
    },
    {
      "cell_type": "code",
      "execution_count": 49,
      "metadata": {
        "id": "SmD3cVWRTpSV",
        "outputId": "1b4cae48-0bfd-4988-8186-8b95e769cccb",
        "colab": {
          "base_uri": "https://localhost:8080/",
          "height": 266
        }
      },
      "outputs": [
        {
          "output_type": "display_data",
          "data": {
            "text/plain": [
              "<Figure size 432x288 with 1 Axes>"
            ],
            "image/png": "[encoded data removed]"
          },
          "metadata": {
            "needs_background": "light"
          }
        }
      ],
      "source": [
        "_, fZ_AR1, _ = np.linalg.svd(Z_AR1)\n",
        "plt.hist(fZ_AR1, bins=30, density=True);"
      ]
    },
    {
      "cell_type": "markdown",
      "metadata": {
        "id": "e3uneZp8TpSV"
      },
      "source": [
        "We run ScreeNOT on ```Y_AR1 = X + Z_AR1```. The procedure returns three values:\n",
        "1. `Xest_AR1`: An estimate of `X`, obtained by thresholding the singular values of `Y`.\n",
        "2. `Topt_AR1`: The optimal threshold computed by the ScreeNOT procedure.\n",
        "3. `r_eff_AR1`: The number of retained PCs; = `rank(Xest_AR1)`."
      ]
    },
    {
      "cell_type": "code",
      "execution_count": 50,
      "metadata": {
        "id": "615E9K6RTpSV",
        "outputId": "18692608-4790-4ba0-ee1f-f50614f4a678",
        "colab": {
          "base_uri": "https://localhost:8080/"
        }
      },
      "outputs": [
        {
          "output_type": "execute_result",
          "data": {
            "text/plain": [
              "(3.0753702404428402, 5)"
            ]
          },
          "metadata": {},
          "execution_count": 50
        }
      ],
      "source": [
        "Y_AR1 = X + Z_AR1\n",
        "Xest_AR1, Topt_AR1, r_eff_AR1 = adaptiveHardThresholding(Y_AR1, k)\n",
        "\n",
        "(Topt_AR1, r_eff_AR1)"
      ]
    },
    {
      "cell_type": "markdown",
      "metadata": {
        "id": "TvW__KVYTpSV"
      },
      "source": [
        "The produced threshold is quite far from $\\frac{4}{\\sqrt{3}}$.\n",
        "\n",
        "We plot the first 30 empirical singular values of ```Y_AR1```:"
      ]
    },
    {
      "cell_type": "code",
      "execution_count": 51,
      "metadata": {
        "id": "5FT5jlGPTpSW",
        "outputId": "486d28f0-e65d-4270-8cf5-dc4e1f8023c7",
        "colab": {
          "base_uri": "https://localhost:8080/",
          "height": 279
        }
      },
      "outputs": [
        {
          "output_type": "display_data",
          "data": {
            "text/plain": [
              "<Figure size 432x288 with 1 Axes>"
            ],
            "image/png": "[encoded data removed]"
          },
          "metadata": {
            "needs_background": "light"
          }
        }
      ],
      "source": [
        "vals_count = 30\n",
        "yU, fY, yVt = np.linalg.svd(Y_AR1)\n",
        "\n",
        "plt.plot(range(1,r_eff_AR1+1), fY[0:r_eff_AR1], linestyle='None', marker='o', color='green');\n",
        "plt.plot(range(r_eff_AR1+1,vals_count+1), fY[r_eff_AR1:vals_count], linestyle='None', marker='o', color='black');\n",
        "plt.axhline(y=Topt_AR1, color='green', linestyle='--');\n",
        "plt.axhline(y=4/np.sqrt(3), color='red', linestyle='--');\n",
        "plt.xlabel(r'Component number');\n",
        "plt.ylabel(r'Singular value');"
      ]
    },
    {
      "cell_type": "markdown",
      "metadata": {
        "id": "Mugx30plTpSW"
      },
      "source": [
        "The horizonal green line corresponds to ```Topt_AR1```, the threshold produced by ScreeNOT, while in red we have $\\frac{4}{\\sqrt{3}}$, the known optimal threshold for i.i.d noise.\n",
        "We compare the Frobenius loss incurred at either threshold:"
      ]
    },
    {
      "cell_type": "code",
      "execution_count": 52,
      "metadata": {
        "id": "Z4Q1YSyaTpSW",
        "outputId": "5fa8beda-1dde-4376-ea3e-65f72cca9d8f",
        "colab": {
          "base_uri": "https://localhost:8080/"
        }
      },
      "outputs": [
        {
          "output_type": "execute_result",
          "data": {
            "text/plain": [
              "(27.68277790715219, 97.50902453163373)"
            ]
          },
          "metadata": {},
          "execution_count": 52
        }
      ],
      "source": [
        "Topt_iid = 4/np.sqrt(3)\n",
        "\n",
        "Xest_iid = yU @ np.diag( [y if y>Topt_iid else 0 for y in fY] ) @ yVt \n",
        "\n",
        "loss_ScreeNOT = np.linalg.norm(X - Xest_AR1)**2\n",
        "loss_iid = np.linalg.norm(X - Xest_iid)**2\n",
        "\n",
        "(loss_ScreeNOT, loss_iid)"
      ]
    },
    {
      "cell_type": "markdown",
      "metadata": {
        "id": "yNfIMktGTpSW"
      },
      "source": [
        "Indeed, we see that ScreeNOT achieves better (smaller) loss."
      ]
    }
  ],
  "metadata": {
    "kernelspec": {
      "display_name": "Python 3",
      "language": "python",
      "name": "python3"
    },
    "language_info": {
      "codemirror_mode": {
        "name": "ipython",
        "version": 3
      },
      "file_extension": ".py",
      "mimetype": "text/x-python",
      "name": "python",
      "nbconvert_exporter": "python",
      "pygments_lexer": "ipython3",
      "version": "3.7.4"
    },
    "colab": {
      "provenance": []
    }
  },
  "nbformat": 4,
  "nbformat_minor": 0
}